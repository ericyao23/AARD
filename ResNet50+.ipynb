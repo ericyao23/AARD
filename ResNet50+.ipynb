{
 "cells": [
  {
   "cell_type": "code",
   "execution_count": 1,
   "id": "d8a5e7c0",
   "metadata": {},
   "outputs": [
    {
     "name": "stdout",
     "output_type": "stream",
     "text": [
      "Requirement already satisfied: pandas in ./opt/anaconda3/lib/python3.9/site-packages (1.4.2)\n",
      "Requirement already satisfied: python-dateutil>=2.8.1 in ./opt/anaconda3/lib/python3.9/site-packages (from pandas) (2.8.2)\n",
      "Requirement already satisfied: pytz>=2020.1 in ./opt/anaconda3/lib/python3.9/site-packages (from pandas) (2021.3)\n",
      "Requirement already satisfied: numpy>=1.18.5 in ./opt/anaconda3/lib/python3.9/site-packages (from pandas) (1.21.5)\n",
      "Requirement already satisfied: six>=1.5 in ./opt/anaconda3/lib/python3.9/site-packages (from python-dateutil>=2.8.1->pandas) (1.16.0)\n",
      "Requirement already satisfied: tensorflow in ./opt/anaconda3/lib/python3.9/site-packages (2.7.0)\n",
      "Requirement already satisfied: grpcio<2.0,>=1.24.3 in ./opt/anaconda3/lib/python3.9/site-packages (from tensorflow) (1.42.0)\n",
      "Requirement already satisfied: termcolor>=1.1.0 in ./opt/anaconda3/lib/python3.9/site-packages (from tensorflow) (1.1.0)\n",
      "Requirement already satisfied: tensorflow-io-gcs-filesystem>=0.21.0 in ./opt/anaconda3/lib/python3.9/site-packages (from tensorflow) (0.26.0)\n",
      "Requirement already satisfied: google-pasta>=0.1.1 in ./opt/anaconda3/lib/python3.9/site-packages (from tensorflow) (0.2.0)\n",
      "Requirement already satisfied: opt-einsum>=2.3.2 in ./opt/anaconda3/lib/python3.9/site-packages (from tensorflow) (3.3.0)\n",
      "Requirement already satisfied: tensorboard~=2.6 in ./opt/anaconda3/lib/python3.9/site-packages (from tensorflow) (2.9.1)\n",
      "Requirement already satisfied: protobuf>=3.9.2 in ./opt/anaconda3/lib/python3.9/site-packages (from tensorflow) (3.19.1)\n",
      "Requirement already satisfied: keras<2.8,>=2.7.0rc0 in ./opt/anaconda3/lib/python3.9/site-packages (from tensorflow) (2.7.0)\n",
      "Requirement already satisfied: typing-extensions>=3.6.6 in ./opt/anaconda3/lib/python3.9/site-packages (from tensorflow) (4.1.1)\n",
      "Requirement already satisfied: keras-preprocessing>=1.1.1 in ./opt/anaconda3/lib/python3.9/site-packages (from tensorflow) (1.1.2)\n",
      "Requirement already satisfied: tensorflow-estimator<2.8,~=2.7.0rc0 in ./opt/anaconda3/lib/python3.9/site-packages (from tensorflow) (2.7.0)\n",
      "Requirement already satisfied: h5py>=2.9.0 in ./opt/anaconda3/lib/python3.9/site-packages (from tensorflow) (3.6.0)\n",
      "Requirement already satisfied: libclang>=9.0.1 in ./opt/anaconda3/lib/python3.9/site-packages (from tensorflow) (14.0.6)\n",
      "Requirement already satisfied: flatbuffers<3.0,>=1.12 in ./opt/anaconda3/lib/python3.9/site-packages (from tensorflow) (1.12)\n",
      "Requirement already satisfied: wrapt>=1.11.0 in ./opt/anaconda3/lib/python3.9/site-packages (from tensorflow) (1.12.1)\n",
      "Requirement already satisfied: wheel<1.0,>=0.32.0 in ./opt/anaconda3/lib/python3.9/site-packages (from tensorflow) (0.37.1)\n",
      "Requirement already satisfied: six>=1.12.0 in ./opt/anaconda3/lib/python3.9/site-packages (from tensorflow) (1.16.0)\n",
      "Requirement already satisfied: gast<0.5.0,>=0.2.1 in ./opt/anaconda3/lib/python3.9/site-packages (from tensorflow) (0.4.0)\n",
      "Requirement already satisfied: absl-py>=0.4.0 in ./opt/anaconda3/lib/python3.9/site-packages (from tensorflow) (1.2.0)\n",
      "Requirement already satisfied: numpy>=1.14.5 in ./opt/anaconda3/lib/python3.9/site-packages (from tensorflow) (1.21.5)\n",
      "Requirement already satisfied: astunparse>=1.6.0 in ./opt/anaconda3/lib/python3.9/site-packages (from tensorflow) (1.6.3)\n",
      "Requirement already satisfied: markdown>=2.6.8 in ./opt/anaconda3/lib/python3.9/site-packages (from tensorboard~=2.6->tensorflow) (3.3.4)\n",
      "Requirement already satisfied: google-auth-oauthlib<0.5,>=0.4.1 in ./opt/anaconda3/lib/python3.9/site-packages (from tensorboard~=2.6->tensorflow) (0.4.6)\n",
      "Requirement already satisfied: google-auth<3,>=1.6.3 in ./opt/anaconda3/lib/python3.9/site-packages (from tensorboard~=2.6->tensorflow) (1.33.0)\n",
      "Requirement already satisfied: werkzeug>=1.0.1 in ./opt/anaconda3/lib/python3.9/site-packages (from tensorboard~=2.6->tensorflow) (2.0.3)\n",
      "Requirement already satisfied: tensorboard-plugin-wit>=1.6.0 in ./opt/anaconda3/lib/python3.9/site-packages (from tensorboard~=2.6->tensorflow) (1.8.1)\n",
      "Requirement already satisfied: setuptools>=41.0.0 in ./opt/anaconda3/lib/python3.9/site-packages (from tensorboard~=2.6->tensorflow) (61.2.0)\n",
      "Requirement already satisfied: requests<3,>=2.21.0 in ./opt/anaconda3/lib/python3.9/site-packages (from tensorboard~=2.6->tensorflow) (2.27.1)\n",
      "Requirement already satisfied: tensorboard-data-server<0.7.0,>=0.6.0 in ./opt/anaconda3/lib/python3.9/site-packages (from tensorboard~=2.6->tensorflow) (0.6.1)\n",
      "Requirement already satisfied: pyasn1-modules>=0.2.1 in ./opt/anaconda3/lib/python3.9/site-packages (from google-auth<3,>=1.6.3->tensorboard~=2.6->tensorflow) (0.2.8)\n",
      "Requirement already satisfied: rsa<5,>=3.1.4 in ./opt/anaconda3/lib/python3.9/site-packages (from google-auth<3,>=1.6.3->tensorboard~=2.6->tensorflow) (4.7.2)\n",
      "Requirement already satisfied: cachetools<5.0,>=2.0.0 in ./opt/anaconda3/lib/python3.9/site-packages (from google-auth<3,>=1.6.3->tensorboard~=2.6->tensorflow) (4.2.2)\n",
      "Requirement already satisfied: requests-oauthlib>=0.7.0 in ./opt/anaconda3/lib/python3.9/site-packages (from google-auth-oauthlib<0.5,>=0.4.1->tensorboard~=2.6->tensorflow) (1.3.1)\n",
      "Requirement already satisfied: pyasn1<0.5.0,>=0.4.6 in ./opt/anaconda3/lib/python3.9/site-packages (from pyasn1-modules>=0.2.1->google-auth<3,>=1.6.3->tensorboard~=2.6->tensorflow) (0.4.8)\n",
      "Requirement already satisfied: charset-normalizer~=2.0.0 in ./opt/anaconda3/lib/python3.9/site-packages (from requests<3,>=2.21.0->tensorboard~=2.6->tensorflow) (2.0.4)\n",
      "Requirement already satisfied: certifi>=2017.4.17 in ./opt/anaconda3/lib/python3.9/site-packages (from requests<3,>=2.21.0->tensorboard~=2.6->tensorflow) (2021.10.8)\n",
      "Requirement already satisfied: urllib3<1.27,>=1.21.1 in ./opt/anaconda3/lib/python3.9/site-packages (from requests<3,>=2.21.0->tensorboard~=2.6->tensorflow) (1.26.9)\n",
      "Requirement already satisfied: idna<4,>=2.5 in ./opt/anaconda3/lib/python3.9/site-packages (from requests<3,>=2.21.0->tensorboard~=2.6->tensorflow) (3.3)\n",
      "Requirement already satisfied: oauthlib>=3.0.0 in ./opt/anaconda3/lib/python3.9/site-packages (from requests-oauthlib>=0.7.0->google-auth-oauthlib<0.5,>=0.4.1->tensorboard~=2.6->tensorflow) (3.2.0)\n"
     ]
    }
   ],
   "source": [
    "!pip install pandas\n",
    "!pip install tensorflow"
   ]
  },
  {
   "cell_type": "code",
   "execution_count": 2,
   "id": "41febb01",
   "metadata": {},
   "outputs": [
    {
     "name": "stdout",
     "output_type": "stream",
     "text": [
      "Requirement already satisfied: tensorflow-datasets in ./opt/anaconda3/lib/python3.9/site-packages (4.6.0)\n",
      "Requirement already satisfied: absl-py in ./opt/anaconda3/lib/python3.9/site-packages (from tensorflow-datasets) (1.2.0)\n",
      "Requirement already satisfied: tqdm in ./opt/anaconda3/lib/python3.9/site-packages (from tensorflow-datasets) (4.64.0)\n",
      "Requirement already satisfied: dill in ./opt/anaconda3/lib/python3.9/site-packages (from tensorflow-datasets) (0.3.5.1)\n",
      "Requirement already satisfied: six in ./opt/anaconda3/lib/python3.9/site-packages (from tensorflow-datasets) (1.16.0)\n",
      "Requirement already satisfied: etils[epath] in ./opt/anaconda3/lib/python3.9/site-packages (from tensorflow-datasets) (0.6.0)\n",
      "Requirement already satisfied: tensorflow-metadata in ./opt/anaconda3/lib/python3.9/site-packages (from tensorflow-datasets) (1.9.0)\n",
      "Requirement already satisfied: promise in ./opt/anaconda3/lib/python3.9/site-packages (from tensorflow-datasets) (2.3)\n",
      "Requirement already satisfied: requests>=2.19.0 in ./opt/anaconda3/lib/python3.9/site-packages (from tensorflow-datasets) (2.27.1)\n",
      "Requirement already satisfied: numpy in ./opt/anaconda3/lib/python3.9/site-packages (from tensorflow-datasets) (1.21.5)\n",
      "Requirement already satisfied: protobuf>=3.12.2 in ./opt/anaconda3/lib/python3.9/site-packages (from tensorflow-datasets) (3.19.1)\n",
      "Requirement already satisfied: toml in ./opt/anaconda3/lib/python3.9/site-packages (from tensorflow-datasets) (0.10.2)\n",
      "Requirement already satisfied: termcolor in ./opt/anaconda3/lib/python3.9/site-packages (from tensorflow-datasets) (1.1.0)\n",
      "Requirement already satisfied: idna<4,>=2.5 in ./opt/anaconda3/lib/python3.9/site-packages (from requests>=2.19.0->tensorflow-datasets) (3.3)\n",
      "Requirement already satisfied: urllib3<1.27,>=1.21.1 in ./opt/anaconda3/lib/python3.9/site-packages (from requests>=2.19.0->tensorflow-datasets) (1.26.9)\n",
      "Requirement already satisfied: charset-normalizer~=2.0.0 in ./opt/anaconda3/lib/python3.9/site-packages (from requests>=2.19.0->tensorflow-datasets) (2.0.4)\n",
      "Requirement already satisfied: certifi>=2017.4.17 in ./opt/anaconda3/lib/python3.9/site-packages (from requests>=2.19.0->tensorflow-datasets) (2021.10.8)\n",
      "Requirement already satisfied: zipp in ./opt/anaconda3/lib/python3.9/site-packages (from etils[epath]->tensorflow-datasets) (3.7.0)\n",
      "Requirement already satisfied: importlib_resources in ./opt/anaconda3/lib/python3.9/site-packages (from etils[epath]->tensorflow-datasets) (5.9.0)\n",
      "Requirement already satisfied: typing_extensions in ./opt/anaconda3/lib/python3.9/site-packages (from etils[epath]->tensorflow-datasets) (4.1.1)\n",
      "Requirement already satisfied: googleapis-common-protos<2,>=1.52.0 in ./opt/anaconda3/lib/python3.9/site-packages (from tensorflow-metadata->tensorflow-datasets) (1.53.0)\n"
     ]
    }
   ],
   "source": [
    "!pip install tensorflow-datasets"
   ]
  },
  {
   "cell_type": "code",
   "execution_count": 3,
   "id": "9b24abb4",
   "metadata": {},
   "outputs": [],
   "source": [
    "import shutil \n",
    "import pandas as pd"
   ]
  },
  {
   "cell_type": "code",
   "execution_count": 7,
   "id": "004d6c24",
   "metadata": {},
   "outputs": [],
   "source": [
    "import os\n",
    "import copy\n",
    "from sklearn.model_selection import train_test_split\n",
    "from tqdm import tqdm_notebook as tqdm\n",
    "import glob\n",
    "import numpy as np\n",
    "import tensorflow as tf\n",
    "from skimage.io import imread, imsave\n",
    "from tensorflow.keras.preprocessing.image import ImageDataGenerator\n",
    "import matplotlib.pyplot as plt\n",
    "from sklearn.metrics import confusion_matrix, ConfusionMatrixDisplay, plot_confusion_matrix\n",
    "from sklearn import svm\n",
    "from PIL import Image\n",
    "import random\n",
    "\n",
    "import tensorflow_datasets as tfds\n",
    "from tensorflow.keras import layers"
   ]
  },
  {
   "cell_type": "code",
   "execution_count": 8,
   "id": "f68a2ab2",
   "metadata": {},
   "outputs": [],
   "source": [
    "import cv2\n",
    "import numpy as np\n",
    "import os\n",
    "from keras.preprocessing.image import ImageDataGenerator\n",
    "from keras import backend as K\n",
    "import keras\n",
    "from keras.models import Sequential, Model,load_model\n",
    "from keras.callbacks import EarlyStopping,ModelCheckpoint\n",
    "from keras.layers import Input, Add, Dense, Activation, ZeroPadding2D, BatchNormalization, Flatten, Conv2D, AveragePooling2D, MaxPooling2D, GlobalMaxPooling2D,MaxPool2D\n",
    "from keras.preprocessing import image\n",
    "from keras.initializers import glorot_uniform"
   ]
  },
  {
   "cell_type": "code",
   "execution_count": 9,
   "id": "b0cf3232",
   "metadata": {},
   "outputs": [],
   "source": [
    "train_dataset = '/Users/ericyao/Documents/AARD/Lung/archive/raw_png/Training'\n",
    "testing_dataset = '/Users/ericyao/Documents/AARD/Lung/archive/raw_png/Testing'"
   ]
  },
  {
   "cell_type": "code",
   "execution_count": 10,
   "id": "f78333be",
   "metadata": {},
   "outputs": [
    {
     "name": "stderr",
     "output_type": "stream",
     "text": [
      "/var/folders/nz/nbjnbmrx2zv9sqt5nsvq53v80000gn/T/ipykernel_1879/3432833017.py:5: VisibleDeprecationWarning: Creating an ndarray from ragged nested sequences (which is a list-or-tuple of lists-or-tuples-or ndarrays with different lengths or shapes) is deprecated. If you meant to do this, you must specify 'dtype=object' when creating the ndarray.\n",
      "  imgs = np.asarray([imread(p) for p in img_paths])\n"
     ]
    },
    {
     "data": {
      "text/plain": [
       "3850"
      ]
     },
     "execution_count": 10,
     "metadata": {},
     "output_type": "execute_result"
    }
   ],
   "source": [
    "img_paths = glob.glob(os.path.join(train_dataset, '*/*.png'))\n",
    "parent_names = [os.path.basename(os.path.abspath(os.path.join(p, os.pardir))) for p in img_paths]\n",
    "labels = np.asarray([0 if p == '0' else 1 if p == '1' else 2 if p == '2' \n",
    "                    else 3 for p in parent_names])\n",
    "imgs = np.asarray([imread(p) for p in img_paths])\n",
    "len(img_paths)"
   ]
  },
  {
   "cell_type": "code",
   "execution_count": 11,
   "id": "567fbbf4",
   "metadata": {},
   "outputs": [],
   "source": [
    "x_train, x_test, y_train, y_test = train_test_split(imgs, labels, test_size = 0.25, random_state = 1)"
   ]
  },
  {
   "cell_type": "code",
   "execution_count": 12,
   "id": "62fbc488",
   "metadata": {},
   "outputs": [
    {
     "data": {
      "text/plain": [
       "array([2, 0, 1, 2, 3, 3, 3, 3, 3, 2, 2, 2, 2, 1, 2, 1, 1, 0, 1, 2, 3, 0,\n",
       "       0, 1, 2, 2, 2, 2, 3, 2, 2, 2, 1, 2, 2, 1, 2, 2, 3, 1, 0, 0, 2, 0,\n",
       "       2, 2, 0, 2, 3, 2, 1, 2, 2, 2, 1, 2, 1, 0, 3, 1, 0, 0, 2, 3, 2, 1,\n",
       "       0, 0, 1, 3, 2, 2, 1, 1, 1, 1, 0, 0, 2, 3, 2, 1, 3, 1, 1, 1, 3, 2,\n",
       "       2, 2, 0, 1, 1, 1, 2, 2, 0, 0, 2, 2, 1, 0, 0, 3, 2, 2, 3, 2, 1, 0,\n",
       "       2, 1, 2, 1, 2, 0, 0, 2, 0, 1, 0, 1, 1, 1, 2, 1, 0, 2, 0, 0, 1, 3,\n",
       "       0, 2, 2, 2, 2, 1, 1, 2, 0, 1, 2, 2, 1, 2, 0, 1, 1, 2, 0, 1, 0, 3,\n",
       "       1, 0, 3, 2, 1, 3, 2, 0, 0, 3, 3, 0, 1, 2, 1, 2, 3, 1, 3, 1, 3, 1,\n",
       "       3, 2, 1, 0, 2, 1, 2, 1, 1, 0, 2, 0, 3, 2, 2, 1, 2, 2, 1, 1, 2, 2,\n",
       "       2, 3, 0, 0, 3, 2, 2, 1, 2, 0, 3, 3, 1, 2, 3, 1, 1, 1, 1, 0, 1, 2,\n",
       "       1, 2, 3, 1, 2, 3, 3, 2, 2, 3, 3, 2, 1, 3, 0, 3, 3, 0, 2, 0, 2, 2,\n",
       "       2, 2, 0, 1, 2, 1, 3, 3, 3, 2, 1, 0, 3, 1, 2, 2, 2, 2, 1, 3, 0, 1,\n",
       "       3, 3, 1, 0, 0, 0, 3, 0, 2, 2, 1, 2, 2, 0, 1, 1, 2, 1, 0, 3, 3, 1,\n",
       "       1, 1, 1, 1, 1, 3, 2, 3, 1, 0, 0, 0, 2, 0, 3, 3, 0, 2, 1, 3, 2, 3,\n",
       "       1, 3, 1, 2, 2, 2, 1, 1, 3, 2, 1, 0, 1, 1, 2, 2, 2, 1, 0, 3, 0, 1,\n",
       "       3, 1, 2, 1, 2, 2, 0, 1, 2, 3, 2, 1, 2, 2, 1, 3, 3, 0, 0, 3, 3, 0,\n",
       "       1, 3, 3, 0, 0, 1, 0, 0, 1, 1, 3, 2, 1, 1, 3, 2, 0, 1, 1, 2, 2, 2,\n",
       "       2, 1, 3, 2, 2, 0, 0, 2, 1, 2, 0, 3, 0, 0, 0, 3, 3, 3, 1, 1, 1, 1,\n",
       "       3, 1, 0, 1, 3, 1, 2, 0, 1, 0, 1, 1, 1, 1, 2, 0, 1, 0, 0, 1, 3, 1,\n",
       "       2, 0, 2, 2, 1, 1, 1, 2, 1, 2, 2, 1, 1, 3, 1, 0, 1, 2, 1, 2, 1, 1,\n",
       "       1, 0, 2, 1, 0, 0, 3, 3, 2, 1, 2, 2, 2, 3, 2, 3, 1, 3, 0, 0, 2, 0,\n",
       "       2, 3, 2, 3, 1, 2, 1, 2, 3, 1, 2, 1, 1, 3, 0, 2, 2, 2, 0, 2, 2, 3,\n",
       "       2, 3, 3, 2, 3, 2, 1, 2, 3, 2, 2, 3, 3, 3, 0, 1, 2, 1, 1, 2, 0, 0,\n",
       "       3, 2, 3, 3, 2, 2, 3, 3, 1, 2, 1, 1, 0, 0, 1, 2, 1, 2, 2, 2, 0, 0,\n",
       "       2, 0, 1, 0, 3, 1, 0, 2, 1, 0, 0, 2, 0, 1, 2, 3, 1, 2, 3, 0, 1, 1,\n",
       "       0, 1, 3, 1, 1, 1, 0, 1, 3, 3, 2, 2, 2, 2, 2, 2, 1, 2, 3, 2, 2, 2,\n",
       "       1, 2, 2, 1, 2, 3, 2, 2, 2, 1, 3, 1, 3, 2, 0, 2, 1, 1, 2, 0, 2, 3,\n",
       "       0, 0, 1, 2, 0, 0, 1, 2, 0, 3, 3, 0, 0, 0, 3, 0, 0, 2, 3, 2, 0, 2,\n",
       "       2, 1, 0, 3, 0, 2, 1, 0, 1, 2, 2, 0, 1, 3, 0, 1, 3, 2, 3, 3, 1, 3,\n",
       "       2, 2, 1, 3, 1, 2, 2, 2, 1, 1, 2, 2, 2, 3, 2, 1, 3, 3, 1, 2, 3, 1,\n",
       "       3, 2, 1, 1, 1, 2, 2, 2, 0, 3, 1, 2, 2, 1, 1, 2, 2, 2, 0, 0, 1, 0,\n",
       "       2, 0, 1, 0, 2, 2, 0, 1, 2, 0, 1, 3, 3, 2, 0, 2, 2, 3, 2, 3, 0, 1,\n",
       "       2, 2, 3, 1, 2, 3, 3, 1, 3, 2, 2, 1, 1, 3, 3, 2, 0, 2, 3, 3, 2, 2,\n",
       "       1, 2, 2, 0, 0, 3, 3, 2, 2, 1, 2, 0, 2, 1, 1, 0, 2, 2, 1, 2, 3, 1,\n",
       "       2, 1, 0, 2, 1, 0, 1, 2, 1, 1, 1, 3, 2, 0, 3, 1, 1, 2, 2, 0, 2, 3,\n",
       "       1, 3, 1, 3, 0, 1, 1, 3, 2, 1, 1, 3, 0, 0, 1, 1, 2, 1, 3, 3, 0, 1,\n",
       "       1, 0, 0, 1, 3, 0, 1, 0, 2, 0, 1, 1, 0, 1, 3, 2, 2, 0, 3, 3, 1, 0,\n",
       "       0, 3, 2, 2, 2, 2, 2, 3, 2, 0, 2, 2, 0, 0, 2, 3, 2, 1, 2, 3, 2, 3,\n",
       "       2, 1, 1, 0, 0, 2, 0, 1, 2, 2, 1, 2, 1, 0, 0, 1, 1, 3, 2, 1, 2, 0,\n",
       "       2, 3, 1, 1, 2, 0, 3, 2, 3, 2, 2, 2, 3, 2, 1, 1, 1, 2, 1, 1, 1, 0,\n",
       "       3, 3, 1, 1, 0, 0, 0, 1, 0, 2, 2, 3, 3, 2, 2, 0, 1, 2, 2, 1, 1, 1,\n",
       "       1, 0, 2, 1, 3, 3, 1, 0, 3, 1, 2, 1, 2, 0, 3, 2, 3, 1, 1, 3, 1, 0,\n",
       "       1, 0, 2, 3, 0, 1, 1, 2, 2, 2, 0, 3, 2, 1, 0, 1, 1, 0, 0, 3, 2, 3,\n",
       "       2, 3, 3, 0, 3, 0, 0, 2, 3, 1, 2, 2, 3, 2, 0, 1, 1])"
      ]
     },
     "execution_count": 12,
     "metadata": {},
     "output_type": "execute_result"
    }
   ],
   "source": [
    "y_test"
   ]
  },
  {
   "cell_type": "code",
   "execution_count": 13,
   "id": "99261f0f",
   "metadata": {},
   "outputs": [],
   "source": [
    "train_datagen = ImageDataGenerator(rotation_range = 20)\n",
    "test_datagen = ImageDataGenerator()"
   ]
  },
  {
   "cell_type": "code",
   "execution_count": 14,
   "id": "3d5a66c7",
   "metadata": {},
   "outputs": [
    {
     "name": "stdout",
     "output_type": "stream",
     "text": [
      "Found 3850 images belonging to 4 classes.\n",
      "Found 2049 images belonging to 4 classes.\n"
     ]
    }
   ],
   "source": [
    "trdata = ImageDataGenerator(rotation_range=20)\n",
    "traindata = trdata.flow_from_directory(\"/Users/ericyao/Documents/AARD/Lung/archive/raw_png/Training\",target_size=(224,224))\n",
    "tsdata = ImageDataGenerator(rotation_range=20)\n",
    "testdata = tsdata.flow_from_directory(\"/Users/ericyao/Documents/AARD/Lung/archive/raw_png/Testing\", target_size=(224,224))"
   ]
  },
  {
   "cell_type": "code",
   "execution_count": 15,
   "id": "c0969c17",
   "metadata": {},
   "outputs": [],
   "source": [
    "from tensorflow.keras.applications.resnet import ResNet50"
   ]
  },
  {
   "cell_type": "code",
   "execution_count": 16,
   "id": "600b3d6c",
   "metadata": {},
   "outputs": [
    {
     "name": "stderr",
     "output_type": "stream",
     "text": [
      "2022-08-14 18:22:19.526046: I tensorflow/core/platform/cpu_feature_guard.cc:151] This TensorFlow binary is optimized with oneAPI Deep Neural Network Library (oneDNN) to use the following CPU instructions in performance-critical operations:  AVX2 FMA\n",
      "To enable them in other operations, rebuild TensorFlow with the appropriate compiler flags.\n"
     ]
    }
   ],
   "source": [
    "model = tf.keras.models.Sequential([\n",
    "    ResNet50(weights='imagenet', input_shape=(224, 224, 3)),\n",
    "    tf.keras.layers.Dense(4,activation = \"softmax\")  \n",
    "])"
   ]
  },
  {
   "cell_type": "code",
   "execution_count": 17,
   "id": "b1a7c507",
   "metadata": {},
   "outputs": [
    {
     "name": "stdout",
     "output_type": "stream",
     "text": [
      "Model: \"sequential\"\n",
      "_________________________________________________________________\n",
      " Layer (type)                Output Shape              Param #   \n",
      "=================================================================\n",
      " resnet50 (Functional)       (None, 1000)              25636712  \n",
      "                                                                 \n",
      " dense (Dense)               (None, 4)                 4004      \n",
      "                                                                 \n",
      "=================================================================\n",
      "Total params: 25,640,716\n",
      "Trainable params: 25,587,596\n",
      "Non-trainable params: 53,120\n",
      "_________________________________________________________________\n"
     ]
    }
   ],
   "source": [
    "model.summary()"
   ]
  },
  {
   "cell_type": "code",
   "execution_count": 18,
   "id": "3492579d",
   "metadata": {},
   "outputs": [],
   "source": [
    "from tensorflow.keras.optimizers import Adam"
   ]
  },
  {
   "cell_type": "code",
   "execution_count": 19,
   "id": "4ebafd45",
   "metadata": {},
   "outputs": [
    {
     "name": "stderr",
     "output_type": "stream",
     "text": [
      "/Users/ericyao/opt/anaconda3/lib/python3.9/site-packages/keras/optimizer_v2/adam.py:105: UserWarning: The `lr` argument is deprecated, use `learning_rate` instead.\n",
      "  super(Adam, self).__init__(name, **kwargs)\n"
     ]
    }
   ],
   "source": [
    "from tensorflow.keras.optimizers import RMSprop,SGD,Adam\n",
    "adam=Adam(lr=0.001)\n",
    "model.compile(optimizer='adam', loss='categorical_crossentropy', metrics = ['acc'])"
   ]
  },
  {
   "cell_type": "code",
   "execution_count": 20,
   "id": "f869a736",
   "metadata": {},
   "outputs": [],
   "source": [
    "es=EarlyStopping(monitor='val_accuracy', mode='max', verbose=1, patience=20)"
   ]
  },
  {
   "cell_type": "code",
   "execution_count": 21,
   "id": "081029dc",
   "metadata": {},
   "outputs": [
    {
     "name": "stdout",
     "output_type": "stream",
     "text": [
      "WARNING:tensorflow:ModelCheckpoint mode acc is unknown, fallback to auto mode.\n"
     ]
    }
   ],
   "source": [
    "mc = ModelCheckpoint('Resnet.h5', monitor='val_accuracy', mode='acc')"
   ]
  },
  {
   "cell_type": "code",
   "execution_count": 22,
   "id": "64164de4",
   "metadata": {},
   "outputs": [
    {
     "name": "stderr",
     "output_type": "stream",
     "text": [
      "/var/folders/nz/nbjnbmrx2zv9sqt5nsvq53v80000gn/T/ipykernel_1879/2001349354.py:1: UserWarning: `Model.fit_generator` is deprecated and will be removed in a future version. Please use `Model.fit`, which supports generators.\n",
      "  history = model.fit_generator(steps_per_epoch=100, generator=traindata,validation_data= testdata,  validation_steps= 10,epochs=1, callbacks=[mc, es])\n"
     ]
    },
    {
     "name": "stdout",
     "output_type": "stream",
     "text": [
      "100/100 [==============================] - ETA: 0s - loss: 1.3426 - acc: 0.4403 "
     ]
    },
    {
     "name": "stderr",
     "output_type": "stream",
     "text": [
      "/Users/ericyao/opt/anaconda3/lib/python3.9/site-packages/keras/engine/functional.py:1410: CustomMaskWarning: Custom mask layers require a config and must override get_config. When loading, the custom mask layer must be passed to the custom_objects argument.\n",
      "  layer_config = serialize_layer_fn(layer)\n"
     ]
    },
    {
     "name": "stdout",
     "output_type": "stream",
     "text": [
      "WARNING:tensorflow:Early stopping conditioned on metric `val_accuracy` which is not available. Available metrics are: loss,acc,val_loss,val_acc\n",
      "100/100 [==============================] - 1295s 13s/step - loss: 1.3426 - acc: 0.4403 - val_loss: 1.3964 - val_acc: 0.2875\n"
     ]
    }
   ],
   "source": [
    "history = model.fit_generator(steps_per_epoch=100, generator=traindata,validation_data= testdata,  validation_steps= 10,epochs=1, callbacks=[mc, es])  "
   ]
  },
  {
   "cell_type": "code",
   "execution_count": 23,
   "id": "20774b59",
   "metadata": {},
   "outputs": [
    {
     "name": "stdout",
     "output_type": "stream",
     "text": [
      "65/65 [==============================] - 207s 3s/step\n"
     ]
    }
   ],
   "source": [
    "scores = model.predict(testdata, verbose = 1)"
   ]
  },
  {
   "cell_type": "code",
   "execution_count": 24,
   "id": "b4229cea",
   "metadata": {},
   "outputs": [
    {
     "name": "stdout",
     "output_type": "stream",
     "text": [
      "65/65 [==============================] - 187s 3s/step - loss: 1.3907 - acc: 0.2928\n"
     ]
    },
    {
     "data": {
      "text/plain": [
       "[1.3906699419021606, 0.29282575845718384]"
      ]
     },
     "execution_count": 24,
     "metadata": {},
     "output_type": "execute_result"
    }
   ],
   "source": [
    "model.evaluate(testdata, verbose = 1)"
   ]
  },
  {
   "cell_type": "code",
   "execution_count": 25,
   "id": "25030a42",
   "metadata": {},
   "outputs": [],
   "source": [
    "preds = np.argmax(scores, axis = 1)"
   ]
  },
  {
   "cell_type": "code",
   "execution_count": 26,
   "id": "16608950",
   "metadata": {},
   "outputs": [
    {
     "data": {
      "text/plain": [
       "array([2, 2, 2, ..., 2, 2, 2])"
      ]
     },
     "execution_count": 26,
     "metadata": {},
     "output_type": "execute_result"
    }
   ],
   "source": [
    "preds"
   ]
  },
  {
   "cell_type": "code",
   "execution_count": 27,
   "id": "df786155",
   "metadata": {},
   "outputs": [
    {
     "data": {
      "image/png": "[encoded data removed]",
      "text/plain": [
       "<Figure size 432x288 with 2 Axes>"
      ]
     },
     "metadata": {
      "needs_background": "light"
     },
     "output_type": "display_data"
    }
   ],
   "source": [
    "matrix = confusion_matrix(testdata.classes, preds)\n",
    "disp = ConfusionMatrixDisplay(confusion_matrix = matrix, display_labels = traindata.class_indices)\n",
    "disp = disp.plot(cmap = plt.cm.Blues)\n",
    "plt.xticks(rotation = 90)\n",
    "plt.show()"
   ]
  },
  {
   "cell_type": "code",
   "execution_count": 28,
   "id": "a82b36d2",
   "metadata": {},
   "outputs": [
    {
     "name": "stdout",
     "output_type": "stream",
     "text": [
      "[[  0   0 520   0]\n",
      " [  0   0 533   0]\n",
      " [  0   0 600   0]\n",
      " [  0   0 396   0]]\n"
     ]
    }
   ],
   "source": [
    "print(matrix)"
   ]
  },
  {
   "cell_type": "code",
   "execution_count": 29,
   "id": "1a2f84be",
   "metadata": {},
   "outputs": [],
   "source": [
    "def show_final_history(history):\n",
    "    fig, ax = plt.subplots(1, 2, figsize=(15,5))\n",
    "    ax[0].set_title('loss')\n",
    "    ax[0].plot(history.epoch, history.history[\"loss\"], label=\"Train loss\")\n",
    "    ax[0].plot(history.epoch, history.history[\"val_loss\"], label=\"Validation loss\")\n",
    "    ax[0].set(xlim=(0, 100), ylim=(0, 2))\n",
    "    ax[0].set_xlabel('Epochs')\n",
    "    ax[1].set_title('acc')\n",
    "    ax[1].plot(history.epoch, history.history[\"acc\"], label=\"Train acc\")\n",
    "    ax[1].plot(history.epoch, history.history[\"val_acc\"], label=\"Validation acc\")\n",
    "    ax[1].set(xlim=(0, 100), ylim=(0, 1))\n",
    "    ax[1].set_xlabel('Epochs')\n",
    "    ax[0].legend()\n",
    "    ax[1].legend()"
   ]
  },
  {
   "cell_type": "code",
   "execution_count": 30,
   "id": "f226b7c2",
   "metadata": {},
   "outputs": [
    {
     "data": {
      "image/png": "[encoded data removed]",
      "text/plain": [
       "<Figure size 1080x360 with 2 Axes>"
      ]
     },
     "metadata": {
      "needs_background": "light"
     },
     "output_type": "display_data"
    }
   ],
   "source": [
    "show_final_history(history)"
   ]
  },
  {
   "cell_type": "code",
   "execution_count": null,
   "id": "b98df9c7",
   "metadata": {},
   "outputs": [],
   "source": []
  }
 ],
 "metadata": {
  "kernelspec": {
   "display_name": "Python 3 (ipykernel)",
   "language": "python",
   "name": "python3"
  },
  "language_info": {
   "codemirror_mode": {
    "name": "ipython",
    "version": 3
   },
   "file_extension": ".py",
   "mimetype": "text/x-python",
   "name": "python",
   "nbconvert_exporter": "python",
   "pygments_lexer": "ipython3",
   "version": "3.9.12"
  }
 },
 "nbformat": 4,
 "nbformat_minor": 5
}
